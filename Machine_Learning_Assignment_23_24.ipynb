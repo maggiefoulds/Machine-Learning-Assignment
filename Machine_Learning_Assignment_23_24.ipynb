{
  "cells": [
    {
      "cell_type": "markdown",
      "metadata": {
        "id": "view-in-github",
        "colab_type": "text"
      },
      "source": [
        "<a href=\"https://colab.research.google.com/github/maggiefoulds/Machine-Learning-Assignment/blob/main/Machine_Learning_Assignment_23_24.ipynb\" target=\"_parent\"><img src=\"https://colab.research.google.com/assets/colab-badge.svg\" alt=\"Open In Colab\"/></a>"
      ]
    },
    {
      "cell_type": "markdown",
      "metadata": {
        "id": "nijS2ObMhG2_"
      },
      "source": [
        "# Machine Learning Assignment\n",
        "\n",
        "**Dataset**:       HEART DISEASE\n",
        "\n",
        "**Student ID**:    Maggie Foulds\n",
        "\n",
        "**Student Name**:  s5430870\n"
      ]
    },
    {
      "cell_type": "code",
      "source": [
        "from google.colab import drive\n",
        "drive.mount('/content/drive')"
      ],
      "metadata": {
        "id": "swYpHTO0hJ1u",
        "colab": {
          "base_uri": "https://localhost:8080/"
        },
        "outputId": "ae2cd35b-5706-4088-a102-61cad77d2d2c"
      },
      "execution_count": null,
      "outputs": [
        {
          "output_type": "stream",
          "name": "stdout",
          "text": [
            "Drive already mounted at /content/drive; to attempt to forcibly remount, call drive.mount(\"/content/drive\", force_remount=True).\n"
          ]
        }
      ]
    },
    {
      "cell_type": "markdown",
      "metadata": {
        "id": "ENgEu45hhG3C"
      },
      "source": [
        "## Imports\n",
        "\n",
        "Add imports here as needed.\n",
        "\n",
        "Remember to **re-run the cell when you add imports**, so it gets loaded into the virtual notebook environment!"
      ]
    },
    {
      "cell_type": "code",
      "execution_count": null,
      "metadata": {
        "ExecuteTime": {
          "end_time": "2023-07-04T15:47:46.156627Z",
          "start_time": "2023-07-04T15:47:44.602193Z"
        },
        "id": "R86dawhdhG3C"
      },
      "outputs": [],
      "source": [
        "# Data and Datasets\n",
        "import pandas as pd\n",
        "from sklearn.datasets import load_iris\n",
        "from sklearn.datasets import load_wine\n",
        "from sklearn.preprocessing import StandardScaler\n",
        "\n",
        "# Clustering\n",
        "from sklearn.cluster import DBSCAN\n",
        "\n",
        "# Validation methods\n",
        "from sklearn.model_selection import train_test_split\n",
        "from sklearn.model_selection import cross_val_score\n",
        "from sklearn.model_selection import cross_validate\n",
        "from sklearn.model_selection import StratifiedKFold\n",
        "\n",
        "# Metrics\n",
        "from sklearn import metrics\n",
        "from sklearn.metrics import make_scorer\n",
        "from sklearn.metrics import accuracy_score\n",
        "from sklearn.metrics import precision_score\n",
        "from sklearn.metrics import recall_score\n",
        "\n",
        "# Classifiers\n",
        "from sklearn.linear_model import LogisticRegression\n",
        "from sklearn import tree\n",
        "from sklearn.tree import DecisionTreeClassifier\n",
        "from sklearn.ensemble import RandomForestClassifier\n",
        "from sklearn.naive_bayes import GaussianNB\n",
        "from sklearn.naive_bayes import MultinomialNB\n",
        "from sklearn.naive_bayes import BernoulliNB\n",
        "from sklearn.neighbors import KNeighborsClassifier\n",
        "\n",
        "# Hyper-parameter optimisation\n",
        "from sklearn.model_selection import GridSearchCV\n",
        "from sklearn.model_selection import RandomizedSearchCV\n",
        "\n",
        "# Feature selection & feature engineering\n",
        "from sklearn.feature_selection import RFE\n",
        "from sklearn.feature_selection import RFECV\n",
        "from sklearn.decomposition import PCA\n",
        "\n",
        "# Stats\n",
        "from scipy.stats import randint as sp_randint\n",
        "from scipy.stats import pearsonr\n",
        "from scipy.stats import spearmanr\n",
        "from scipy.stats import shapiro     # Shapiro Wilk\n",
        "from scipy.stats import normaltest  # D’Agostino’s K^2\n",
        "from scipy.stats import anderson    # Anderson-Darling\n",
        "from scipy.stats import ttest_ind    # independent student t-test; assumes normality\n",
        "from scipy.stats import mannwhitneyu # non-parametric; doesn't assume normality\n",
        "\n",
        "# Visualisation\n",
        "import matplotlib.pyplot as plt\n",
        "import seaborn as sns\n",
        "from IPython.display import SVG\n",
        "from graphviz import Source\n",
        "from IPython.display import display\n",
        "from sklearn.tree import export_graphviz\n",
        "from sklearn.metrics import ConfusionMatrixDisplay\n",
        "\n",
        "# Utils\n",
        "import pprint\n",
        "import numpy as np\n",
        "from time import time\n",
        "import openpyxl"
      ]
    },
    {
      "cell_type": "markdown",
      "metadata": {
        "id": "GaTOkbUzhG3E"
      },
      "source": [
        "## Loading the dataset"
      ]
    },
    {
      "cell_type": "code",
      "execution_count": null,
      "metadata": {
        "ExecuteTime": {
          "end_time": "2023-07-04T15:47:46.171705Z",
          "start_time": "2023-07-04T15:47:46.157777Z"
        },
        "id": "2NslG0g2hG3F",
        "colab": {
          "base_uri": "https://localhost:8080/",
          "height": 608
        },
        "outputId": "71a5b35b-e68f-450a-a461-5a4017fcf63d"
      },
      "outputs": [
        {
          "output_type": "stream",
          "name": "stdout",
          "text": [
            "<class 'pandas.core.frame.DataFrame'>\n",
            "RangeIndex: 920 entries, 0 to 919\n",
            "Data columns (total 14 columns):\n",
            " #   Column                        Non-Null Count  Dtype  \n",
            "---  ------                        --------------  -----  \n",
            " 0   age                           920 non-null    int64  \n",
            " 1   gender                        920 non-null    int64  \n",
            " 2   chest_pain_type               920 non-null    int64  \n",
            " 3   resting_blood_pressure        861 non-null    float64\n",
            " 4   serum_cholesterol             890 non-null    float64\n",
            " 5   fasting_blood_sugar           830 non-null    float64\n",
            " 6   resting_electrocardiographic  918 non-null    float64\n",
            " 7   max_heart_rate                865 non-null    float64\n",
            " 8   exercise_induced_angina       865 non-null    float64\n",
            " 9   st_depression                 858 non-null    float64\n",
            " 10  st_segment                    611 non-null    float64\n",
            " 11  num_major_vessels             309 non-null    float64\n",
            " 12  thal                          434 non-null    float64\n",
            " 13  class                         920 non-null    int64  \n",
            "dtypes: float64(10), int64(4)\n",
            "memory usage: 100.8 KB\n",
            "None\n"
          ]
        },
        {
          "output_type": "execute_result",
          "data": {
            "text/plain": [
              "   age  gender  chest_pain_type  resting_blood_pressure  serum_cholesterol  \\\n",
              "0   63       1                4                   140.0              260.0   \n",
              "1   44       1                4                   130.0              209.0   \n",
              "2   60       1                4                   132.0              218.0   \n",
              "3   55       1                4                   142.0              228.0   \n",
              "4   66       1                3                   110.0              213.0   \n",
              "\n",
              "   fasting_blood_sugar  resting_electrocardiographic  max_heart_rate  \\\n",
              "0                  0.0                           1.0           112.0   \n",
              "1                  0.0                           1.0           127.0   \n",
              "2                  0.0                           1.0           140.0   \n",
              "3                  0.0                           1.0           149.0   \n",
              "4                  1.0                           2.0            99.0   \n",
              "\n",
              "   exercise_induced_angina  st_depression  st_segment  num_major_vessels  \\\n",
              "0                      1.0            3.0         2.0                NaN   \n",
              "1                      0.0            0.0         NaN                NaN   \n",
              "2                      1.0            1.5         3.0                NaN   \n",
              "3                      1.0            2.5         1.0                NaN   \n",
              "4                      1.0            1.3         2.0                NaN   \n",
              "\n",
              "   thal  class  \n",
              "0   NaN      2  \n",
              "1   NaN      0  \n",
              "2   NaN      2  \n",
              "3   NaN      1  \n",
              "4   NaN      0  "
            ],
            "text/html": [
              "\n",
              "  <div id=\"df-ec4721e6-5611-4d3a-a150-503055c360bc\" class=\"colab-df-container\">\n",
              "    <div>\n",
              "<style scoped>\n",
              "    .dataframe tbody tr th:only-of-type {\n",
              "        vertical-align: middle;\n",
              "    }\n",
              "\n",
              "    .dataframe tbody tr th {\n",
              "        vertical-align: top;\n",
              "    }\n",
              "\n",
              "    .dataframe thead th {\n",
              "        text-align: right;\n",
              "    }\n",
              "</style>\n",
              "<table border=\"1\" class=\"dataframe\">\n",
              "  <thead>\n",
              "    <tr style=\"text-align: right;\">\n",
              "      <th></th>\n",
              "      <th>age</th>\n",
              "      <th>gender</th>\n",
              "      <th>chest_pain_type</th>\n",
              "      <th>resting_blood_pressure</th>\n",
              "      <th>serum_cholesterol</th>\n",
              "      <th>fasting_blood_sugar</th>\n",
              "      <th>resting_electrocardiographic</th>\n",
              "      <th>max_heart_rate</th>\n",
              "      <th>exercise_induced_angina</th>\n",
              "      <th>st_depression</th>\n",
              "      <th>st_segment</th>\n",
              "      <th>num_major_vessels</th>\n",
              "      <th>thal</th>\n",
              "      <th>class</th>\n",
              "    </tr>\n",
              "  </thead>\n",
              "  <tbody>\n",
              "    <tr>\n",
              "      <th>0</th>\n",
              "      <td>63</td>\n",
              "      <td>1</td>\n",
              "      <td>4</td>\n",
              "      <td>140.0</td>\n",
              "      <td>260.0</td>\n",
              "      <td>0.0</td>\n",
              "      <td>1.0</td>\n",
              "      <td>112.0</td>\n",
              "      <td>1.0</td>\n",
              "      <td>3.0</td>\n",
              "      <td>2.0</td>\n",
              "      <td>NaN</td>\n",
              "      <td>NaN</td>\n",
              "      <td>2</td>\n",
              "    </tr>\n",
              "    <tr>\n",
              "      <th>1</th>\n",
              "      <td>44</td>\n",
              "      <td>1</td>\n",
              "      <td>4</td>\n",
              "      <td>130.0</td>\n",
              "      <td>209.0</td>\n",
              "      <td>0.0</td>\n",
              "      <td>1.0</td>\n",
              "      <td>127.0</td>\n",
              "      <td>0.0</td>\n",
              "      <td>0.0</td>\n",
              "      <td>NaN</td>\n",
              "      <td>NaN</td>\n",
              "      <td>NaN</td>\n",
              "      <td>0</td>\n",
              "    </tr>\n",
              "    <tr>\n",
              "      <th>2</th>\n",
              "      <td>60</td>\n",
              "      <td>1</td>\n",
              "      <td>4</td>\n",
              "      <td>132.0</td>\n",
              "      <td>218.0</td>\n",
              "      <td>0.0</td>\n",
              "      <td>1.0</td>\n",
              "      <td>140.0</td>\n",
              "      <td>1.0</td>\n",
              "      <td>1.5</td>\n",
              "      <td>3.0</td>\n",
              "      <td>NaN</td>\n",
              "      <td>NaN</td>\n",
              "      <td>2</td>\n",
              "    </tr>\n",
              "    <tr>\n",
              "      <th>3</th>\n",
              "      <td>55</td>\n",
              "      <td>1</td>\n",
              "      <td>4</td>\n",
              "      <td>142.0</td>\n",
              "      <td>228.0</td>\n",
              "      <td>0.0</td>\n",
              "      <td>1.0</td>\n",
              "      <td>149.0</td>\n",
              "      <td>1.0</td>\n",
              "      <td>2.5</td>\n",
              "      <td>1.0</td>\n",
              "      <td>NaN</td>\n",
              "      <td>NaN</td>\n",
              "      <td>1</td>\n",
              "    </tr>\n",
              "    <tr>\n",
              "      <th>4</th>\n",
              "      <td>66</td>\n",
              "      <td>1</td>\n",
              "      <td>3</td>\n",
              "      <td>110.0</td>\n",
              "      <td>213.0</td>\n",
              "      <td>1.0</td>\n",
              "      <td>2.0</td>\n",
              "      <td>99.0</td>\n",
              "      <td>1.0</td>\n",
              "      <td>1.3</td>\n",
              "      <td>2.0</td>\n",
              "      <td>NaN</td>\n",
              "      <td>NaN</td>\n",
              "      <td>0</td>\n",
              "    </tr>\n",
              "  </tbody>\n",
              "</table>\n",
              "</div>\n",
              "    <div class=\"colab-df-buttons\">\n",
              "\n",
              "  <div class=\"colab-df-container\">\n",
              "    <button class=\"colab-df-convert\" onclick=\"convertToInteractive('df-ec4721e6-5611-4d3a-a150-503055c360bc')\"\n",
              "            title=\"Convert this dataframe to an interactive table.\"\n",
              "            style=\"display:none;\">\n",
              "\n",
              "  <svg xmlns=\"http://www.w3.org/2000/svg\" height=\"24px\" viewBox=\"0 -960 960 960\">\n",
              "    <path d=\"M120-120v-720h720v720H120Zm60-500h600v-160H180v160Zm220 220h160v-160H400v160Zm0 220h160v-160H400v160ZM180-400h160v-160H180v160Zm440 0h160v-160H620v160ZM180-180h160v-160H180v160Zm440 0h160v-160H620v160Z\"/>\n",
              "  </svg>\n",
              "    </button>\n",
              "\n",
              "  <style>\n",
              "    .colab-df-container {\n",
              "      display:flex;\n",
              "      gap: 12px;\n",
              "    }\n",
              "\n",
              "    .colab-df-convert {\n",
              "      background-color: #E8F0FE;\n",
              "      border: none;\n",
              "      border-radius: 50%;\n",
              "      cursor: pointer;\n",
              "      display: none;\n",
              "      fill: #1967D2;\n",
              "      height: 32px;\n",
              "      padding: 0 0 0 0;\n",
              "      width: 32px;\n",
              "    }\n",
              "\n",
              "    .colab-df-convert:hover {\n",
              "      background-color: #E2EBFA;\n",
              "      box-shadow: 0px 1px 2px rgba(60, 64, 67, 0.3), 0px 1px 3px 1px rgba(60, 64, 67, 0.15);\n",
              "      fill: #174EA6;\n",
              "    }\n",
              "\n",
              "    .colab-df-buttons div {\n",
              "      margin-bottom: 4px;\n",
              "    }\n",
              "\n",
              "    [theme=dark] .colab-df-convert {\n",
              "      background-color: #3B4455;\n",
              "      fill: #D2E3FC;\n",
              "    }\n",
              "\n",
              "    [theme=dark] .colab-df-convert:hover {\n",
              "      background-color: #434B5C;\n",
              "      box-shadow: 0px 1px 3px 1px rgba(0, 0, 0, 0.15);\n",
              "      filter: drop-shadow(0px 1px 2px rgba(0, 0, 0, 0.3));\n",
              "      fill: #FFFFFF;\n",
              "    }\n",
              "  </style>\n",
              "\n",
              "    <script>\n",
              "      const buttonEl =\n",
              "        document.querySelector('#df-ec4721e6-5611-4d3a-a150-503055c360bc button.colab-df-convert');\n",
              "      buttonEl.style.display =\n",
              "        google.colab.kernel.accessAllowed ? 'block' : 'none';\n",
              "\n",
              "      async function convertToInteractive(key) {\n",
              "        const element = document.querySelector('#df-ec4721e6-5611-4d3a-a150-503055c360bc');\n",
              "        const dataTable =\n",
              "          await google.colab.kernel.invokeFunction('convertToInteractive',\n",
              "                                                    [key], {});\n",
              "        if (!dataTable) return;\n",
              "\n",
              "        const docLinkHtml = 'Like what you see? Visit the ' +\n",
              "          '<a target=\"_blank\" href=https://colab.research.google.com/notebooks/data_table.ipynb>data table notebook</a>'\n",
              "          + ' to learn more about interactive tables.';\n",
              "        element.innerHTML = '';\n",
              "        dataTable['output_type'] = 'display_data';\n",
              "        await google.colab.output.renderOutput(dataTable, element);\n",
              "        const docLink = document.createElement('div');\n",
              "        docLink.innerHTML = docLinkHtml;\n",
              "        element.appendChild(docLink);\n",
              "      }\n",
              "    </script>\n",
              "  </div>\n",
              "\n",
              "\n",
              "<div id=\"df-f00be2a2-80b7-48aa-a0a7-dcf4579c9ad4\">\n",
              "  <button class=\"colab-df-quickchart\" onclick=\"quickchart('df-f00be2a2-80b7-48aa-a0a7-dcf4579c9ad4')\"\n",
              "            title=\"Suggest charts\"\n",
              "            style=\"display:none;\">\n",
              "\n",
              "<svg xmlns=\"http://www.w3.org/2000/svg\" height=\"24px\"viewBox=\"0 0 24 24\"\n",
              "     width=\"24px\">\n",
              "    <g>\n",
              "        <path d=\"M19 3H5c-1.1 0-2 .9-2 2v14c0 1.1.9 2 2 2h14c1.1 0 2-.9 2-2V5c0-1.1-.9-2-2-2zM9 17H7v-7h2v7zm4 0h-2V7h2v10zm4 0h-2v-4h2v4z\"/>\n",
              "    </g>\n",
              "</svg>\n",
              "  </button>\n",
              "\n",
              "<style>\n",
              "  .colab-df-quickchart {\n",
              "      --bg-color: #E8F0FE;\n",
              "      --fill-color: #1967D2;\n",
              "      --hover-bg-color: #E2EBFA;\n",
              "      --hover-fill-color: #174EA6;\n",
              "      --disabled-fill-color: #AAA;\n",
              "      --disabled-bg-color: #DDD;\n",
              "  }\n",
              "\n",
              "  [theme=dark] .colab-df-quickchart {\n",
              "      --bg-color: #3B4455;\n",
              "      --fill-color: #D2E3FC;\n",
              "      --hover-bg-color: #434B5C;\n",
              "      --hover-fill-color: #FFFFFF;\n",
              "      --disabled-bg-color: #3B4455;\n",
              "      --disabled-fill-color: #666;\n",
              "  }\n",
              "\n",
              "  .colab-df-quickchart {\n",
              "    background-color: var(--bg-color);\n",
              "    border: none;\n",
              "    border-radius: 50%;\n",
              "    cursor: pointer;\n",
              "    display: none;\n",
              "    fill: var(--fill-color);\n",
              "    height: 32px;\n",
              "    padding: 0;\n",
              "    width: 32px;\n",
              "  }\n",
              "\n",
              "  .colab-df-quickchart:hover {\n",
              "    background-color: var(--hover-bg-color);\n",
              "    box-shadow: 0 1px 2px rgba(60, 64, 67, 0.3), 0 1px 3px 1px rgba(60, 64, 67, 0.15);\n",
              "    fill: var(--button-hover-fill-color);\n",
              "  }\n",
              "\n",
              "  .colab-df-quickchart-complete:disabled,\n",
              "  .colab-df-quickchart-complete:disabled:hover {\n",
              "    background-color: var(--disabled-bg-color);\n",
              "    fill: var(--disabled-fill-color);\n",
              "    box-shadow: none;\n",
              "  }\n",
              "\n",
              "  .colab-df-spinner {\n",
              "    border: 2px solid var(--fill-color);\n",
              "    border-color: transparent;\n",
              "    border-bottom-color: var(--fill-color);\n",
              "    animation:\n",
              "      spin 1s steps(1) infinite;\n",
              "  }\n",
              "\n",
              "  @keyframes spin {\n",
              "    0% {\n",
              "      border-color: transparent;\n",
              "      border-bottom-color: var(--fill-color);\n",
              "      border-left-color: var(--fill-color);\n",
              "    }\n",
              "    20% {\n",
              "      border-color: transparent;\n",
              "      border-left-color: var(--fill-color);\n",
              "      border-top-color: var(--fill-color);\n",
              "    }\n",
              "    30% {\n",
              "      border-color: transparent;\n",
              "      border-left-color: var(--fill-color);\n",
              "      border-top-color: var(--fill-color);\n",
              "      border-right-color: var(--fill-color);\n",
              "    }\n",
              "    40% {\n",
              "      border-color: transparent;\n",
              "      border-right-color: var(--fill-color);\n",
              "      border-top-color: var(--fill-color);\n",
              "    }\n",
              "    60% {\n",
              "      border-color: transparent;\n",
              "      border-right-color: var(--fill-color);\n",
              "    }\n",
              "    80% {\n",
              "      border-color: transparent;\n",
              "      border-right-color: var(--fill-color);\n",
              "      border-bottom-color: var(--fill-color);\n",
              "    }\n",
              "    90% {\n",
              "      border-color: transparent;\n",
              "      border-bottom-color: var(--fill-color);\n",
              "    }\n",
              "  }\n",
              "</style>\n",
              "\n",
              "  <script>\n",
              "    async function quickchart(key) {\n",
              "      const quickchartButtonEl =\n",
              "        document.querySelector('#' + key + ' button');\n",
              "      quickchartButtonEl.disabled = true;  // To prevent multiple clicks.\n",
              "      quickchartButtonEl.classList.add('colab-df-spinner');\n",
              "      try {\n",
              "        const charts = await google.colab.kernel.invokeFunction(\n",
              "            'suggestCharts', [key], {});\n",
              "      } catch (error) {\n",
              "        console.error('Error during call to suggestCharts:', error);\n",
              "      }\n",
              "      quickchartButtonEl.classList.remove('colab-df-spinner');\n",
              "      quickchartButtonEl.classList.add('colab-df-quickchart-complete');\n",
              "    }\n",
              "    (() => {\n",
              "      let quickchartButtonEl =\n",
              "        document.querySelector('#df-f00be2a2-80b7-48aa-a0a7-dcf4579c9ad4 button');\n",
              "      quickchartButtonEl.style.display =\n",
              "        google.colab.kernel.accessAllowed ? 'block' : 'none';\n",
              "    })();\n",
              "  </script>\n",
              "</div>\n",
              "    </div>\n",
              "  </div>\n"
            ]
          },
          "metadata": {},
          "execution_count": 8
        }
      ],
      "source": [
        "import pandas as pd\n",
        "\n",
        "original_df = pd.read_csv('drive/MyDrive/heart-disease.csv')\n",
        "\n",
        "# printing out dataset info\n",
        "print(original_df.info())\n",
        "original_df.head()"
      ]
    },
    {
      "cell_type": "markdown",
      "metadata": {
        "id": "dIH_LRP0hG3G"
      },
      "source": [
        "# Exploratory data analysis\n",
        "\n",
        "Section for exploratory data analysis, to address **Tasks 1.1 and 1.2**.\n",
        "\n",
        "**OBS:** You may need to do some data cleaning before you do your full exploratory data analysis, though you will find that some functions we'll cover in this unit are able to handle things like missing values and non-numeric data.\n",
        "\n",
        "**Create more cells as needed!**"
      ]
    },
    {
      "cell_type": "markdown",
      "source": [
        "# Task 1.1: Data Quality Analysis\n"
      ],
      "metadata": {
        "id": "_DUsblOgQRhX"
      }
    },
    {
      "cell_type": "markdown",
      "source": [
        "### Identifying Duplicates\n",
        "Calculating the number of instances in the dataset are duplicates, and printing the duplicate rows."
      ],
      "metadata": {
        "id": "z5_Imi5Kpiac"
      }
    },
    {
      "cell_type": "code",
      "source": [
        "## printing the number of duplicate rows in the dataset\n",
        "print('Number of duplicate rows: \\n \\n', original_df.duplicated().value_counts())\n",
        "duplicated_rows = original_df[original_df.duplicated()]\n",
        "\n",
        "## visualising the duplicated rows\n",
        "duplicates = (original_df[original_df.duplicated(keep=False)])\n",
        "duplicates.head()"
      ],
      "metadata": {
        "colab": {
          "base_uri": "https://localhost:8080/",
          "height": 281
        },
        "id": "qVUlwbspoX6L",
        "outputId": "a38f7c6a-cf12-4972-fa35-c3d86b793a55"
      },
      "execution_count": null,
      "outputs": [
        {
          "output_type": "stream",
          "name": "stdout",
          "text": [
            "Number of duplicate rows: \n",
            " \n",
            " False    918\n",
            "True       2\n",
            "dtype: int64\n"
          ]
        },
        {
          "output_type": "execute_result",
          "data": {
            "text/plain": [
              "     age  gender  chest_pain_type  resting_blood_pressure  serum_cholesterol  \\\n",
              "139   58       1                3                   150.0              219.0   \n",
              "187   58       1                3                   150.0              219.0   \n",
              "604   49       0                2                   110.0                NaN   \n",
              "605   49       0                2                   110.0                NaN   \n",
              "\n",
              "     fasting_blood_sugar  resting_electrocardiographic  max_heart_rate  \\\n",
              "139                  0.0                           1.0           118.0   \n",
              "187                  0.0                           1.0           118.0   \n",
              "604                  0.0                           0.0           160.0   \n",
              "605                  0.0                           0.0           160.0   \n",
              "\n",
              "     exercise_induced_angina  st_depression  st_segment  num_major_vessels  \\\n",
              "139                      1.0            0.0         NaN                NaN   \n",
              "187                      1.0            0.0         NaN                NaN   \n",
              "604                      0.0            0.0         NaN                NaN   \n",
              "605                      0.0            0.0         NaN                NaN   \n",
              "\n",
              "     thal  class  \n",
              "139   NaN      2  \n",
              "187   NaN      2  \n",
              "604   NaN      0  \n",
              "605   NaN      0  "
            ],
            "text/html": [
              "\n",
              "  <div id=\"df-728c81c6-257c-4695-96e2-a9691e2f8fad\" class=\"colab-df-container\">\n",
              "    <div>\n",
              "<style scoped>\n",
              "    .dataframe tbody tr th:only-of-type {\n",
              "        vertical-align: middle;\n",
              "    }\n",
              "\n",
              "    .dataframe tbody tr th {\n",
              "        vertical-align: top;\n",
              "    }\n",
              "\n",
              "    .dataframe thead th {\n",
              "        text-align: right;\n",
              "    }\n",
              "</style>\n",
              "<table border=\"1\" class=\"dataframe\">\n",
              "  <thead>\n",
              "    <tr style=\"text-align: right;\">\n",
              "      <th></th>\n",
              "      <th>age</th>\n",
              "      <th>gender</th>\n",
              "      <th>chest_pain_type</th>\n",
              "      <th>resting_blood_pressure</th>\n",
              "      <th>serum_cholesterol</th>\n",
              "      <th>fasting_blood_sugar</th>\n",
              "      <th>resting_electrocardiographic</th>\n",
              "      <th>max_heart_rate</th>\n",
              "      <th>exercise_induced_angina</th>\n",
              "      <th>st_depression</th>\n",
              "      <th>st_segment</th>\n",
              "      <th>num_major_vessels</th>\n",
              "      <th>thal</th>\n",
              "      <th>class</th>\n",
              "    </tr>\n",
              "  </thead>\n",
              "  <tbody>\n",
              "    <tr>\n",
              "      <th>139</th>\n",
              "      <td>58</td>\n",
              "      <td>1</td>\n",
              "      <td>3</td>\n",
              "      <td>150.0</td>\n",
              "      <td>219.0</td>\n",
              "      <td>0.0</td>\n",
              "      <td>1.0</td>\n",
              "      <td>118.0</td>\n",
              "      <td>1.0</td>\n",
              "      <td>0.0</td>\n",
              "      <td>NaN</td>\n",
              "      <td>NaN</td>\n",
              "      <td>NaN</td>\n",
              "      <td>2</td>\n",
              "    </tr>\n",
              "    <tr>\n",
              "      <th>187</th>\n",
              "      <td>58</td>\n",
              "      <td>1</td>\n",
              "      <td>3</td>\n",
              "      <td>150.0</td>\n",
              "      <td>219.0</td>\n",
              "      <td>0.0</td>\n",
              "      <td>1.0</td>\n",
              "      <td>118.0</td>\n",
              "      <td>1.0</td>\n",
              "      <td>0.0</td>\n",
              "      <td>NaN</td>\n",
              "      <td>NaN</td>\n",
              "      <td>NaN</td>\n",
              "      <td>2</td>\n",
              "    </tr>\n",
              "    <tr>\n",
              "      <th>604</th>\n",
              "      <td>49</td>\n",
              "      <td>0</td>\n",
              "      <td>2</td>\n",
              "      <td>110.0</td>\n",
              "      <td>NaN</td>\n",
              "      <td>0.0</td>\n",
              "      <td>0.0</td>\n",
              "      <td>160.0</td>\n",
              "      <td>0.0</td>\n",
              "      <td>0.0</td>\n",
              "      <td>NaN</td>\n",
              "      <td>NaN</td>\n",
              "      <td>NaN</td>\n",
              "      <td>0</td>\n",
              "    </tr>\n",
              "    <tr>\n",
              "      <th>605</th>\n",
              "      <td>49</td>\n",
              "      <td>0</td>\n",
              "      <td>2</td>\n",
              "      <td>110.0</td>\n",
              "      <td>NaN</td>\n",
              "      <td>0.0</td>\n",
              "      <td>0.0</td>\n",
              "      <td>160.0</td>\n",
              "      <td>0.0</td>\n",
              "      <td>0.0</td>\n",
              "      <td>NaN</td>\n",
              "      <td>NaN</td>\n",
              "      <td>NaN</td>\n",
              "      <td>0</td>\n",
              "    </tr>\n",
              "  </tbody>\n",
              "</table>\n",
              "</div>\n",
              "    <div class=\"colab-df-buttons\">\n",
              "\n",
              "  <div class=\"colab-df-container\">\n",
              "    <button class=\"colab-df-convert\" onclick=\"convertToInteractive('df-728c81c6-257c-4695-96e2-a9691e2f8fad')\"\n",
              "            title=\"Convert this dataframe to an interactive table.\"\n",
              "            style=\"display:none;\">\n",
              "\n",
              "  <svg xmlns=\"http://www.w3.org/2000/svg\" height=\"24px\" viewBox=\"0 -960 960 960\">\n",
              "    <path d=\"M120-120v-720h720v720H120Zm60-500h600v-160H180v160Zm220 220h160v-160H400v160Zm0 220h160v-160H400v160ZM180-400h160v-160H180v160Zm440 0h160v-160H620v160ZM180-180h160v-160H180v160Zm440 0h160v-160H620v160Z\"/>\n",
              "  </svg>\n",
              "    </button>\n",
              "\n",
              "  <style>\n",
              "    .colab-df-container {\n",
              "      display:flex;\n",
              "      gap: 12px;\n",
              "    }\n",
              "\n",
              "    .colab-df-convert {\n",
              "      background-color: #E8F0FE;\n",
              "      border: none;\n",
              "      border-radius: 50%;\n",
              "      cursor: pointer;\n",
              "      display: none;\n",
              "      fill: #1967D2;\n",
              "      height: 32px;\n",
              "      padding: 0 0 0 0;\n",
              "      width: 32px;\n",
              "    }\n",
              "\n",
              "    .colab-df-convert:hover {\n",
              "      background-color: #E2EBFA;\n",
              "      box-shadow: 0px 1px 2px rgba(60, 64, 67, 0.3), 0px 1px 3px 1px rgba(60, 64, 67, 0.15);\n",
              "      fill: #174EA6;\n",
              "    }\n",
              "\n",
              "    .colab-df-buttons div {\n",
              "      margin-bottom: 4px;\n",
              "    }\n",
              "\n",
              "    [theme=dark] .colab-df-convert {\n",
              "      background-color: #3B4455;\n",
              "      fill: #D2E3FC;\n",
              "    }\n",
              "\n",
              "    [theme=dark] .colab-df-convert:hover {\n",
              "      background-color: #434B5C;\n",
              "      box-shadow: 0px 1px 3px 1px rgba(0, 0, 0, 0.15);\n",
              "      filter: drop-shadow(0px 1px 2px rgba(0, 0, 0, 0.3));\n",
              "      fill: #FFFFFF;\n",
              "    }\n",
              "  </style>\n",
              "\n",
              "    <script>\n",
              "      const buttonEl =\n",
              "        document.querySelector('#df-728c81c6-257c-4695-96e2-a9691e2f8fad button.colab-df-convert');\n",
              "      buttonEl.style.display =\n",
              "        google.colab.kernel.accessAllowed ? 'block' : 'none';\n",
              "\n",
              "      async function convertToInteractive(key) {\n",
              "        const element = document.querySelector('#df-728c81c6-257c-4695-96e2-a9691e2f8fad');\n",
              "        const dataTable =\n",
              "          await google.colab.kernel.invokeFunction('convertToInteractive',\n",
              "                                                    [key], {});\n",
              "        if (!dataTable) return;\n",
              "\n",
              "        const docLinkHtml = 'Like what you see? Visit the ' +\n",
              "          '<a target=\"_blank\" href=https://colab.research.google.com/notebooks/data_table.ipynb>data table notebook</a>'\n",
              "          + ' to learn more about interactive tables.';\n",
              "        element.innerHTML = '';\n",
              "        dataTable['output_type'] = 'display_data';\n",
              "        await google.colab.output.renderOutput(dataTable, element);\n",
              "        const docLink = document.createElement('div');\n",
              "        docLink.innerHTML = docLinkHtml;\n",
              "        element.appendChild(docLink);\n",
              "      }\n",
              "    </script>\n",
              "  </div>\n",
              "\n",
              "\n",
              "<div id=\"df-ded3ff1c-93f6-49ab-86a4-715e90b0120d\">\n",
              "  <button class=\"colab-df-quickchart\" onclick=\"quickchart('df-ded3ff1c-93f6-49ab-86a4-715e90b0120d')\"\n",
              "            title=\"Suggest charts\"\n",
              "            style=\"display:none;\">\n",
              "\n",
              "<svg xmlns=\"http://www.w3.org/2000/svg\" height=\"24px\"viewBox=\"0 0 24 24\"\n",
              "     width=\"24px\">\n",
              "    <g>\n",
              "        <path d=\"M19 3H5c-1.1 0-2 .9-2 2v14c0 1.1.9 2 2 2h14c1.1 0 2-.9 2-2V5c0-1.1-.9-2-2-2zM9 17H7v-7h2v7zm4 0h-2V7h2v10zm4 0h-2v-4h2v4z\"/>\n",
              "    </g>\n",
              "</svg>\n",
              "  </button>\n",
              "\n",
              "<style>\n",
              "  .colab-df-quickchart {\n",
              "      --bg-color: #E8F0FE;\n",
              "      --fill-color: #1967D2;\n",
              "      --hover-bg-color: #E2EBFA;\n",
              "      --hover-fill-color: #174EA6;\n",
              "      --disabled-fill-color: #AAA;\n",
              "      --disabled-bg-color: #DDD;\n",
              "  }\n",
              "\n",
              "  [theme=dark] .colab-df-quickchart {\n",
              "      --bg-color: #3B4455;\n",
              "      --fill-color: #D2E3FC;\n",
              "      --hover-bg-color: #434B5C;\n",
              "      --hover-fill-color: #FFFFFF;\n",
              "      --disabled-bg-color: #3B4455;\n",
              "      --disabled-fill-color: #666;\n",
              "  }\n",
              "\n",
              "  .colab-df-quickchart {\n",
              "    background-color: var(--bg-color);\n",
              "    border: none;\n",
              "    border-radius: 50%;\n",
              "    cursor: pointer;\n",
              "    display: none;\n",
              "    fill: var(--fill-color);\n",
              "    height: 32px;\n",
              "    padding: 0;\n",
              "    width: 32px;\n",
              "  }\n",
              "\n",
              "  .colab-df-quickchart:hover {\n",
              "    background-color: var(--hover-bg-color);\n",
              "    box-shadow: 0 1px 2px rgba(60, 64, 67, 0.3), 0 1px 3px 1px rgba(60, 64, 67, 0.15);\n",
              "    fill: var(--button-hover-fill-color);\n",
              "  }\n",
              "\n",
              "  .colab-df-quickchart-complete:disabled,\n",
              "  .colab-df-quickchart-complete:disabled:hover {\n",
              "    background-color: var(--disabled-bg-color);\n",
              "    fill: var(--disabled-fill-color);\n",
              "    box-shadow: none;\n",
              "  }\n",
              "\n",
              "  .colab-df-spinner {\n",
              "    border: 2px solid var(--fill-color);\n",
              "    border-color: transparent;\n",
              "    border-bottom-color: var(--fill-color);\n",
              "    animation:\n",
              "      spin 1s steps(1) infinite;\n",
              "  }\n",
              "\n",
              "  @keyframes spin {\n",
              "    0% {\n",
              "      border-color: transparent;\n",
              "      border-bottom-color: var(--fill-color);\n",
              "      border-left-color: var(--fill-color);\n",
              "    }\n",
              "    20% {\n",
              "      border-color: transparent;\n",
              "      border-left-color: var(--fill-color);\n",
              "      border-top-color: var(--fill-color);\n",
              "    }\n",
              "    30% {\n",
              "      border-color: transparent;\n",
              "      border-left-color: var(--fill-color);\n",
              "      border-top-color: var(--fill-color);\n",
              "      border-right-color: var(--fill-color);\n",
              "    }\n",
              "    40% {\n",
              "      border-color: transparent;\n",
              "      border-right-color: var(--fill-color);\n",
              "      border-top-color: var(--fill-color);\n",
              "    }\n",
              "    60% {\n",
              "      border-color: transparent;\n",
              "      border-right-color: var(--fill-color);\n",
              "    }\n",
              "    80% {\n",
              "      border-color: transparent;\n",
              "      border-right-color: var(--fill-color);\n",
              "      border-bottom-color: var(--fill-color);\n",
              "    }\n",
              "    90% {\n",
              "      border-color: transparent;\n",
              "      border-bottom-color: var(--fill-color);\n",
              "    }\n",
              "  }\n",
              "</style>\n",
              "\n",
              "  <script>\n",
              "    async function quickchart(key) {\n",
              "      const quickchartButtonEl =\n",
              "        document.querySelector('#' + key + ' button');\n",
              "      quickchartButtonEl.disabled = true;  // To prevent multiple clicks.\n",
              "      quickchartButtonEl.classList.add('colab-df-spinner');\n",
              "      try {\n",
              "        const charts = await google.colab.kernel.invokeFunction(\n",
              "            'suggestCharts', [key], {});\n",
              "      } catch (error) {\n",
              "        console.error('Error during call to suggestCharts:', error);\n",
              "      }\n",
              "      quickchartButtonEl.classList.remove('colab-df-spinner');\n",
              "      quickchartButtonEl.classList.add('colab-df-quickchart-complete');\n",
              "    }\n",
              "    (() => {\n",
              "      let quickchartButtonEl =\n",
              "        document.querySelector('#df-ded3ff1c-93f6-49ab-86a4-715e90b0120d button');\n",
              "      quickchartButtonEl.style.display =\n",
              "        google.colab.kernel.accessAllowed ? 'block' : 'none';\n",
              "    })();\n",
              "  </script>\n",
              "</div>\n",
              "    </div>\n",
              "  </div>\n"
            ]
          },
          "metadata": {},
          "execution_count": 9
        }
      ]
    },
    {
      "cell_type": "markdown",
      "source": [
        "### Identifying Missing Values\n",
        "\n",
        "Calculating the number of NaN values in each feature, then sorting them in ascending order. Visualising missing value distribution through a Seaborn displot."
      ],
      "metadata": {
        "id": "8O_kqD1bTixl"
      }
    },
    {
      "cell_type": "code",
      "source": [
        "## finding the sum of the missing values by feature\n",
        "missing_values = original_df.isnull().sum()\n",
        "missing_values = missing_values[missing_values>0]\n",
        "missing_values.sort_values(inplace=True)\n",
        "\n",
        "print('Number of missing values in each feature: \\n\\n\\n', missing_values)\n",
        "\n",
        "print('\\n\\nChart visualising the distribution of missing values by feature: \\n\\n')\n",
        "plt.figure(figsize=(10,6))\n",
        "sns.displot(\n",
        "    data=original_df.isna().melt(value_name='missing'),\n",
        "    y='variable',\n",
        "    hue='missing',\n",
        "    multiple='fill',\n",
        "    aspect=1.25\n",
        ")\n",
        "plt.title('Distribution of Missing Values by Feature')\n",
        "\n",
        "## selecting rows with more than 6 missing values\n",
        "missing_rows = original_df.loc[original_df.isnull().sum(1)>6]\n",
        "\n",
        "print(missing_rows, missing_rows.info(),'\\n\\n\\n')\n",
        "\n",
        "##missing_rows['class'].value_counts().plot(kind='bar', title='Class distribution of the Rows with >50% Missing Data')"
      ],
      "metadata": {
        "colab": {
          "base_uri": "https://localhost:8080/",
          "height": 1000
        },
        "id": "qLZKR44uqYYU",
        "outputId": "3dec9938-47e1-4cae-d455-f31b565935d6"
      },
      "execution_count": null,
      "outputs": [
        {
          "output_type": "stream",
          "name": "stdout",
          "text": [
            "Number of missing values in each feature: \n",
            "\n",
            "\n",
            " resting_electrocardiographic      2\n",
            "serum_cholesterol                30\n",
            "max_heart_rate                   55\n",
            "exercise_induced_angina          55\n",
            "resting_blood_pressure           59\n",
            "st_depression                    62\n",
            "fasting_blood_sugar              90\n",
            "st_segment                      309\n",
            "thal                            486\n",
            "num_major_vessels               611\n",
            "dtype: int64\n",
            "\n",
            "\n",
            "Chart visualising the distribution of missing values by feature: \n",
            "\n",
            "\n",
            "<class 'pandas.core.frame.DataFrame'>\n",
            "Int64Index: 53 entries, 13 to 198\n",
            "Data columns (total 14 columns):\n",
            " #   Column                        Non-Null Count  Dtype  \n",
            "---  ------                        --------------  -----  \n",
            " 0   age                           53 non-null     int64  \n",
            " 1   gender                        53 non-null     int64  \n",
            " 2   chest_pain_type               53 non-null     int64  \n",
            " 3   resting_blood_pressure        0 non-null      float64\n",
            " 4   serum_cholesterol             50 non-null     float64\n",
            " 5   fasting_blood_sugar           53 non-null     float64\n",
            " 6   resting_electrocardiographic  53 non-null     float64\n",
            " 7   max_heart_rate                0 non-null      float64\n",
            " 8   exercise_induced_angina       0 non-null      float64\n",
            " 9   st_depression                 0 non-null      float64\n",
            " 10  st_segment                    0 non-null      float64\n",
            " 11  num_major_vessels             0 non-null      float64\n",
            " 12  thal                          1 non-null      float64\n",
            " 13  class                         53 non-null     int64  \n",
            "dtypes: float64(10), int64(4)\n",
            "memory usage: 6.2 KB\n",
            "     age  gender  chest_pain_type  resting_blood_pressure  serum_cholesterol  \\\n",
            "13    63       1                3                     NaN                0.0   \n",
            "23    74       1                3                     NaN                0.0   \n",
            "26    51       1                4                     NaN                0.0   \n",
            "29    55       1                3                     NaN              228.0   \n",
            "30    54       1                4                     NaN                0.0   \n",
            "36    60       1                4                     NaN              281.0   \n",
            "38    58       1                4                     NaN              203.0   \n",
            "44    57       1                4                     NaN              277.0   \n",
            "51    63       0                2                     NaN                0.0   \n",
            "57    60       1                3                     NaN              316.0   \n",
            "58    62       1                2                     NaN                0.0   \n",
            "60    51       1                4                     NaN              218.0   \n",
            "68    65       1                4                     NaN                0.0   \n",
            "69    63       1                2                     NaN              217.0   \n",
            "72    65       1                1                     NaN              252.0   \n",
            "77    51       1                3                     NaN              339.0   \n",
            "87    51       1                4                     NaN              227.0   \n",
            "89    55       1                3                     NaN              245.0   \n",
            "94    60       1                4                     NaN              195.0   \n",
            "96    35       1                3                     NaN              161.0   \n",
            "109   45       1                3                     NaN              236.0   \n",
            "110   65       1                4                     NaN              312.0   \n",
            "111   61       1                2                     NaN              283.0   \n",
            "112   49       1                3                     NaN              142.0   \n",
            "113   72       1                4                     NaN              211.0   \n",
            "114   50       1                4                     NaN              218.0   \n",
            "115   64       1                4                     NaN              306.0   \n",
            "119   56       1                4                     NaN                0.0   \n",
            "120   62       1                3                     NaN                0.0   \n",
            "124   62       1                3                     NaN              204.0   \n",
            "129   48       1                4                     NaN              272.0   \n",
            "133   68       1                1                     NaN              181.0   \n",
            "136   71       1                3                     NaN              221.0   \n",
            "137   74       1                1                     NaN              216.0   \n",
            "141   56       1                3                     NaN              208.0   \n",
            "142   58       1                3                     NaN              232.0   \n",
            "144   54       1                3                     NaN              203.0   \n",
            "145   54       1                2                     NaN              182.0   \n",
            "147   55       1                4                     NaN              204.0   \n",
            "149   61       1                4                     NaN              292.0   \n",
            "155   69       1                4                     NaN                NaN   \n",
            "158   69       1                4                     NaN              210.0   \n",
            "159   56       1                4                     NaN              282.0   \n",
            "161   67       1                4                     NaN              369.0   \n",
            "163   69       1                4                     NaN              289.0   \n",
            "164   51       1                4                     NaN                NaN   \n",
            "167   69       1                3                     NaN              271.0   \n",
            "168   64       1                4                     NaN              244.0   \n",
            "174   63       1                2                     NaN              165.0   \n",
            "181   55       1                3                     NaN                NaN   \n",
            "185   61       1                3                     NaN              284.0   \n",
            "196   62       1                1                     NaN              139.0   \n",
            "198   58       1                4                     NaN              385.0   \n",
            "\n",
            "     fasting_blood_sugar  resting_electrocardiographic  max_heart_rate  \\\n",
            "13                   0.0                           2.0             NaN   \n",
            "23                   0.0                           0.0             NaN   \n",
            "26                   1.0                           1.0             NaN   \n",
            "29                   0.0                           1.0             NaN   \n",
            "30                   0.0                           1.0             NaN   \n",
            "36                   0.0                           1.0             NaN   \n",
            "38                   1.0                           0.0             NaN   \n",
            "44                   1.0                           1.0             NaN   \n",
            "51                   0.0                           0.0             NaN   \n",
            "57                   1.0                           1.0             NaN   \n",
            "58                   0.0                           0.0             NaN   \n",
            "60                   1.0                           2.0             NaN   \n",
            "68                   0.0                           0.0             NaN   \n",
            "69                   1.0                           1.0             NaN   \n",
            "72                   0.0                           0.0             NaN   \n",
            "77                   0.0                           0.0             NaN   \n",
            "87                   1.0                           1.0             NaN   \n",
            "89                   1.0                           1.0             NaN   \n",
            "94                   0.0                           0.0             NaN   \n",
            "96                   0.0                           1.0             NaN   \n",
            "109                  0.0                           0.0             NaN   \n",
            "110                  0.0                           2.0             NaN   \n",
            "111                  0.0                           0.0             NaN   \n",
            "112                  0.0                           0.0             NaN   \n",
            "113                  0.0                           0.0             NaN   \n",
            "114                  0.0                           0.0             NaN   \n",
            "115                  1.0                           1.0             NaN   \n",
            "119                  0.0                           2.0             NaN   \n",
            "120                  1.0                           1.0             NaN   \n",
            "124                  0.0                           1.0             NaN   \n",
            "129                  0.0                           1.0             NaN   \n",
            "133                  1.0                           1.0             NaN   \n",
            "136                  0.0                           0.0             NaN   \n",
            "137                  1.0                           0.0             NaN   \n",
            "141                  1.0                           1.0             NaN   \n",
            "142                  0.0                           1.0             NaN   \n",
            "144                  0.0                           1.0             NaN   \n",
            "145                  0.0                           1.0             NaN   \n",
            "147                  1.0                           1.0             NaN   \n",
            "149                  0.0                           1.0             NaN   \n",
            "155                  1.0                           0.0             NaN   \n",
            "158                  1.0                           1.0             NaN   \n",
            "159                  1.0                           0.0             NaN   \n",
            "161                  0.0                           0.0             NaN   \n",
            "163                  1.0                           1.0             NaN   \n",
            "164                  1.0                           2.0             NaN   \n",
            "167                  0.0                           2.0             NaN   \n",
            "168                  1.0                           1.0             NaN   \n",
            "174                  0.0                           1.0             NaN   \n",
            "181                  0.0                           1.0             NaN   \n",
            "185                  0.0                           0.0             NaN   \n",
            "196                  0.0                           1.0             NaN   \n",
            "198                  1.0                           2.0             NaN   \n",
            "\n",
            "     exercise_induced_angina  st_depression  st_segment  num_major_vessels  \\\n",
            "13                       NaN            NaN         NaN                NaN   \n",
            "23                       NaN            NaN         NaN                NaN   \n",
            "26                       NaN            NaN         NaN                NaN   \n",
            "29                       NaN            NaN         NaN                NaN   \n",
            "30                       NaN            NaN         NaN                NaN   \n",
            "36                       NaN            NaN         NaN                NaN   \n",
            "38                       NaN            NaN         NaN                NaN   \n",
            "44                       NaN            NaN         NaN                NaN   \n",
            "51                       NaN            NaN         NaN                NaN   \n",
            "57                       NaN            NaN         NaN                NaN   \n",
            "58                       NaN            NaN         NaN                NaN   \n",
            "60                       NaN            NaN         NaN                NaN   \n",
            "68                       NaN            NaN         NaN                NaN   \n",
            "69                       NaN            NaN         NaN                NaN   \n",
            "72                       NaN            NaN         NaN                NaN   \n",
            "77                       NaN            NaN         NaN                NaN   \n",
            "87                       NaN            NaN         NaN                NaN   \n",
            "89                       NaN            NaN         NaN                NaN   \n",
            "94                       NaN            NaN         NaN                NaN   \n",
            "96                       NaN            NaN         NaN                NaN   \n",
            "109                      NaN            NaN         NaN                NaN   \n",
            "110                      NaN            NaN         NaN                NaN   \n",
            "111                      NaN            NaN         NaN                NaN   \n",
            "112                      NaN            NaN         NaN                NaN   \n",
            "113                      NaN            NaN         NaN                NaN   \n",
            "114                      NaN            NaN         NaN                NaN   \n",
            "115                      NaN            NaN         NaN                NaN   \n",
            "119                      NaN            NaN         NaN                NaN   \n",
            "120                      NaN            NaN         NaN                NaN   \n",
            "124                      NaN            NaN         NaN                NaN   \n",
            "129                      NaN            NaN         NaN                NaN   \n",
            "133                      NaN            NaN         NaN                NaN   \n",
            "136                      NaN            NaN         NaN                NaN   \n",
            "137                      NaN            NaN         NaN                NaN   \n",
            "141                      NaN            NaN         NaN                NaN   \n",
            "142                      NaN            NaN         NaN                NaN   \n",
            "144                      NaN            NaN         NaN                NaN   \n",
            "145                      NaN            NaN         NaN                NaN   \n",
            "147                      NaN            NaN         NaN                NaN   \n",
            "149                      NaN            NaN         NaN                NaN   \n",
            "155                      NaN            NaN         NaN                NaN   \n",
            "158                      NaN            NaN         NaN                NaN   \n",
            "159                      NaN            NaN         NaN                NaN   \n",
            "161                      NaN            NaN         NaN                NaN   \n",
            "163                      NaN            NaN         NaN                NaN   \n",
            "164                      NaN            NaN         NaN                NaN   \n",
            "167                      NaN            NaN         NaN                NaN   \n",
            "168                      NaN            NaN         NaN                NaN   \n",
            "174                      NaN            NaN         NaN                NaN   \n",
            "181                      NaN            NaN         NaN                NaN   \n",
            "185                      NaN            NaN         NaN                NaN   \n",
            "196                      NaN            NaN         NaN                NaN   \n",
            "198                      NaN            NaN         NaN                NaN   \n",
            "\n",
            "     thal  class  \n",
            "13    NaN      1  \n",
            "23    NaN      0  \n",
            "26    NaN      2  \n",
            "29    NaN      3  \n",
            "30    NaN      3  \n",
            "36    NaN      2  \n",
            "38    NaN      1  \n",
            "44    NaN      4  \n",
            "51    NaN      0  \n",
            "57    NaN      3  \n",
            "58    NaN      0  \n",
            "60    NaN      0  \n",
            "68    NaN      1  \n",
            "69    NaN      1  \n",
            "72    NaN      0  \n",
            "77    NaN      3  \n",
            "87    NaN      0  \n",
            "89    NaN      1  \n",
            "94    NaN      0  \n",
            "96    NaN      0  \n",
            "109   NaN      0  \n",
            "110   NaN      3  \n",
            "111   NaN      0  \n",
            "112   NaN      3  \n",
            "113   NaN      1  \n",
            "114   NaN      1  \n",
            "115   NaN      3  \n",
            "119   NaN      1  \n",
            "120   NaN      2  \n",
            "124   NaN      1  \n",
            "129   NaN      0  \n",
            "133   NaN      0  \n",
            "136   NaN      3  \n",
            "137   NaN      3  \n",
            "141   NaN      4  \n",
            "142   NaN      2  \n",
            "144   NaN      0  \n",
            "145   NaN      0  \n",
            "147   NaN      1  \n",
            "149   NaN      3  \n",
            "155   NaN      2  \n",
            "158   NaN      2  \n",
            "159   NaN      1  \n",
            "161   NaN      3  \n",
            "163   NaN      3  \n",
            "164   7.0      1  \n",
            "167   NaN      0  \n",
            "168   NaN      2  \n",
            "174   NaN      0  \n",
            "181   NaN      0  \n",
            "185   NaN      1  \n",
            "196   NaN      0  \n",
            "198   NaN      0   None \n",
            "\n",
            "\n",
            "\n"
          ]
        },
        {
          "output_type": "display_data",
          "data": {
            "text/plain": [
              "<Figure size 1000x600 with 0 Axes>"
            ]
          },
          "metadata": {}
        },
        {
          "output_type": "display_data",
          "data": {
            "text/plain": [
              "<Figure size 709.875x500 with 1 Axes>"
            ],
            "image/png": "[encoded data removed]"
          },
          "metadata": {}
        }
      ]
    },
    {
      "cell_type": "markdown",
      "source": [
        "### Average Values\n",
        "\n",
        "Calculating the mean value for each continuous feature in the dataset, and the modal values for the discrete features"
      ],
      "metadata": {
        "id": "2WvDE1ROv9CP"
      }
    },
    {
      "cell_type": "code",
      "source": [
        "## calculating the mean of each feature in the dataset\n",
        "mean_values = original_df.mean(axis=0)\n",
        "print('Mean values for each feature:\\n\\n', mean_values,'\\n\\n')\n",
        "\n",
        "## calculating the mode of each feature in the dataset\n",
        "mode_values = original_df.mode(axis=0)\n",
        "print('Modal values for each feature:\\n\\n',mode_values)"
      ],
      "metadata": {
        "colab": {
          "base_uri": "https://localhost:8080/"
        },
        "id": "psOBc0haWtlb",
        "outputId": "7494baa0-67e0-42ec-fcd6-23cc777a3c1a"
      },
      "execution_count": null,
      "outputs": [
        {
          "output_type": "stream",
          "name": "stdout",
          "text": [
            "Mean values for each feature:\n",
            "\n",
            " age                              53.510870\n",
            "gender                            0.789130\n",
            "chest_pain_type                   3.250000\n",
            "resting_blood_pressure          132.132404\n",
            "serum_cholesterol               199.130337\n",
            "fasting_blood_sugar               0.166265\n",
            "resting_electrocardiographic      0.604575\n",
            "max_heart_rate                  137.545665\n",
            "exercise_induced_angina           0.389595\n",
            "st_depression                     0.878788\n",
            "st_segment                        1.770867\n",
            "num_major_vessels                 0.676375\n",
            "thal                              5.087558\n",
            "class                             0.995652\n",
            "dtype: float64 \n",
            "\n",
            "\n",
            "Modal values for each feature:\n",
            "\n",
            "    age  gender  chest_pain_type  resting_blood_pressure  serum_cholesterol  \\\n",
            "0   54       1                4                   120.0                0.0   \n",
            "\n",
            "   fasting_blood_sugar  resting_electrocardiographic  max_heart_rate  \\\n",
            "0                  0.0                           0.0           150.0   \n",
            "\n",
            "   exercise_induced_angina  st_depression  st_segment  num_major_vessels  \\\n",
            "0                      0.0            0.0         2.0                0.0   \n",
            "\n",
            "   thal  class  \n",
            "0   3.0      0  \n"
          ]
        }
      ]
    },
    {
      "cell_type": "markdown",
      "source": [
        "### Correlation Matrix\n",
        "\n",
        "Generation of a triangular correlation matrix to visualise the correlation coefficients between each of the features in the dataset"
      ],
      "metadata": {
        "id": "dampp9ihvu54"
      }
    },
    {
      "cell_type": "code",
      "source": [
        "## generating a correlation matrix with correlation coefficients between each feature\n",
        "corr_matrix = original_df.corr()\n",
        "\n",
        "## visualising the correlations through a triangle correlation matrix heatmap\n",
        "mask = np.triu(np.ones_like(corr_matrix))\n",
        "sns.heatmap(corr_matrix, mask=mask)"
      ],
      "metadata": {
        "colab": {
          "base_uri": "https://localhost:8080/",
          "height": 631
        },
        "id": "J3NdKeOWi0ow",
        "outputId": "5ccf2f24-566d-4400-8d08-d3be82455823"
      },
      "execution_count": null,
      "outputs": [
        {
          "output_type": "execute_result",
          "data": {
            "text/plain": [
              "<Axes: >"
            ]
          },
          "metadata": {},
          "execution_count": 12
        },
        {
          "output_type": "display_data",
          "data": {
            "text/plain": [
              "<Figure size 640x480 with 2 Axes>"
            ],
            "image/png": "[encoded data removed]"
          },
          "metadata": {}
        }
      ]
    },
    {
      "cell_type": "markdown",
      "source": [
        "### Class Distribution\n",
        "\n",
        "Calculating value counts for, and visualising, the class distribution within the dataset"
      ],
      "metadata": {
        "id": "daB3XzGlviGq"
      }
    },
    {
      "cell_type": "code",
      "execution_count": null,
      "metadata": {
        "ExecuteTime": {
          "end_time": "2022-09-07T15:03:27.301454Z",
          "start_time": "2022-09-07T15:03:27.299490Z"
        },
        "id": "WtF_PFDchG3G",
        "colab": {
          "base_uri": "https://localhost:8080/",
          "height": 549
        },
        "outputId": "d8a44ec9-1c64-4d3f-a823-6456bd574a8e"
      },
      "outputs": [
        {
          "output_type": "stream",
          "name": "stdout",
          "text": [
            "0    411\n",
            "1    265\n",
            "2    109\n",
            "3    107\n",
            "4     28\n",
            "Name: class, dtype: int64\n"
          ]
        },
        {
          "output_type": "execute_result",
          "data": {
            "text/plain": [
              "<Axes: title={'center': 'Class distribution'}>"
            ]
          },
          "metadata": {},
          "execution_count": 118
        },
        {
          "output_type": "display_data",
          "data": {
            "text/plain": [
              "<Figure size 640x480 with 1 Axes>"
            ],
            "image/png": "[encoded data removed]"
          },
          "metadata": {}
        }
      ],
      "source": [
        "## printing the sum of the instances within each class\n",
        "print(original_df['class'].value_counts())\n",
        "original_df['class'].value_counts().plot(kind='bar', title='Class distribution')\n",
        "\n",
        "## generating pie chart of the dataset when converted to a binary classification\n",
        "original_df['bins'] = pd.cut(original_df['class'], bins=[0,1,5], labels=['Absence of heart disease', 'Presence of heart disease'])\n",
        "biclass_df = original_df.groupby('bins').size()\n",
        "biclass_df.plot.pie()"
      ]
    },
    {
      "cell_type": "markdown",
      "source": [
        "### Age and Gender Distributions"
      ],
      "metadata": {
        "id": "-FfVTEK7e9ZI"
      }
    },
    {
      "cell_type": "code",
      "execution_count": null,
      "metadata": {
        "id": "5Ch0C1bvhG3G",
        "colab": {
          "base_uri": "https://localhost:8080/",
          "height": 890
        },
        "outputId": "706eeb11-75b5-4dde-8e2f-a0d5da584a1b"
      },
      "outputs": [
        {
          "output_type": "stream",
          "name": "stdout",
          "text": [
            "Distribution of ages in the dataset\n"
          ]
        },
        {
          "output_type": "display_data",
          "data": {
            "text/plain": [
              "<Figure size 640x480 with 1 Axes>"
            ],
            "image/png": "[encoded data removed]"
          },
          "metadata": {}
        },
        {
          "output_type": "stream",
          "name": "stdout",
          "text": [
            "Gender distribution in the dataset\n"
          ]
        },
        {
          "output_type": "execute_result",
          "data": {
            "text/plain": [
              "<Axes: ylabel='gender'>"
            ]
          },
          "metadata": {},
          "execution_count": 14
        },
        {
          "output_type": "display_data",
          "data": {
            "text/plain": [
              "<Figure size 640x480 with 1 Axes>"
            ],
            "image/png": "[encoded data removed]"
          },
          "metadata": {}
        }
      ],
      "source": [
        "## visualising the distribution of ages within the dataset in a histogram grouped in every 5 years of age\n",
        "print('Distribution of ages in the dataset')\n",
        "plt.hist(original_df['age'], bins=[0,5,10,15,20,25,30,35,40,45,50,55,60,65,70,75,80], color='lavender', edgecolor='purple')\n",
        "plt.xlabel('Age')\n",
        "plt.ylabel('Count')\n",
        "plt.show()\n",
        "\n",
        "## visualising the gender distribution within the dataset through a pie chart\n",
        "print('Gender distribution in the dataset')\n",
        "pie_colors = ['lightblue', 'pink']\n",
        "original_df['gender'].value_counts().plot.pie(colors=pie_colors, autopct='%1.1f%%')"
      ]
    },
    {
      "cell_type": "markdown",
      "source": [
        "### Identifying Noise in the Dataset"
      ],
      "metadata": {
        "id": "47N218MifFzn"
      }
    },
    {
      "cell_type": "code",
      "execution_count": null,
      "metadata": {
        "id": "c2Q98IMPhG3H",
        "colab": {
          "base_uri": "https://localhost:8080/",
          "height": 381
        },
        "outputId": "14d71567-c253-40eb-fdca-133af6477029"
      },
      "outputs": [
        {
          "output_type": "display_data",
          "data": {
            "text/plain": [
              "<Figure size 900x400 with 6 Axes>"
            ],
            "image/png": "[encoded data removed]"
          },
          "metadata": {}
        }
      ],
      "source": [
        "filtered_data = original_df.dropna()\n",
        "\n",
        "## generation of a bpx and whisker plot for each of the 5 continuous variables in the dataset\n",
        "fig, axs = plt.subplots(nrows=2, ncols=3, figsize=(9,4), sharey=False)\n",
        "axs[0,0].boxplot(filtered_data['age'], vert=0)\n",
        "axs[0,0].set_title('Age', fontsize=10)\n",
        "axs[1,0].boxplot(filtered_data['resting_blood_pressure'], vert=0)\n",
        "axs[1,0].set_title('Resting Blood Pressure', fontsize=10)\n",
        "axs[1,1].boxplot(filtered_data['serum_cholesterol'], vert=0)\n",
        "axs[1,1].set_title('Serum Cholesterol', fontsize=10)\n",
        "axs[0,2].boxplot(filtered_data['max_heart_rate'], vert=0)\n",
        "axs[0,2].set_title('Max Heart Rate', fontsize=10)\n",
        "axs[0,1].boxplot(filtered_data['st_depression'], vert=0)\n",
        "axs[0,1].set_title('ST Depression', fontsize=10)\n",
        "\n",
        "fig.subplots_adjust(hspace=0.5)"
      ]
    },
    {
      "cell_type": "markdown",
      "metadata": {
        "id": "UypmmCTThG3H"
      },
      "source": [
        "## Core data pre-processing\n",
        "Do core data pre-processing here, which is not part of your machine learning experiments.\n",
        "\n",
        "For example, this may be to convert non-numeric features into numeric ones."
      ]
    },
    {
      "cell_type": "markdown",
      "source": [
        "### Dealing with Duplicates"
      ],
      "metadata": {
        "id": "6WSYufVjEL8A"
      }
    },
    {
      "cell_type": "code",
      "execution_count": null,
      "metadata": {
        "ExecuteTime": {
          "end_time": "2023-07-03T15:47:41.983038Z",
          "start_time": "2023-07-03T15:47:41.952118Z"
        },
        "id": "UQddIWVQhG3I",
        "colab": {
          "base_uri": "https://localhost:8080/"
        },
        "outputId": "b9f36f04-5be4-47b8-cd62-4efc22169dd6"
      },
      "outputs": [
        {
          "output_type": "stream",
          "name": "stdout",
          "text": [
            "\n",
            " After dropping duplicate rows: \n",
            " \n",
            " False    918\n",
            "dtype: int64\n",
            "<class 'pandas.core.frame.DataFrame'>\n",
            "Int64Index: 918 entries, 0 to 919\n",
            "Data columns (total 15 columns):\n",
            " #   Column                        Non-Null Count  Dtype   \n",
            "---  ------                        --------------  -----   \n",
            " 0   age                           918 non-null    int64   \n",
            " 1   gender                        918 non-null    int64   \n",
            " 2   chest_pain_type               918 non-null    int64   \n",
            " 3   resting_blood_pressure        859 non-null    float64 \n",
            " 4   serum_cholesterol             889 non-null    float64 \n",
            " 5   fasting_blood_sugar           828 non-null    float64 \n",
            " 6   resting_electrocardiographic  916 non-null    float64 \n",
            " 7   max_heart_rate                863 non-null    float64 \n",
            " 8   exercise_induced_angina       863 non-null    float64 \n",
            " 9   st_depression                 856 non-null    float64 \n",
            " 10  st_segment                    611 non-null    float64 \n",
            " 11  num_major_vessels             309 non-null    float64 \n",
            " 12  thal                          434 non-null    float64 \n",
            " 13  class                         918 non-null    int64   \n",
            " 14  bins                          508 non-null    category\n",
            "dtypes: category(1), float64(10), int64(4)\n",
            "memory usage: 108.6 KB\n",
            "None\n"
          ]
        }
      ],
      "source": [
        "## dropping (removing) the duplicate rows from the dataset\n",
        "heart_df = original_df.drop_duplicates()\n",
        "\n",
        "## printing the new number of duplicates, and information about the newly edited dataset\n",
        "print('\\n After dropping duplicate rows: \\n \\n',heart_df.duplicated().value_counts())\n",
        "print(heart_df.info())\n"
      ]
    },
    {
      "cell_type": "markdown",
      "source": [
        "### Dealing with Missing Values"
      ],
      "metadata": {
        "id": "HD4iesbSHKId"
      }
    },
    {
      "cell_type": "code",
      "execution_count": null,
      "metadata": {
        "id": "OMd6kafBhG3I",
        "colab": {
          "base_uri": "https://localhost:8080/"
        },
        "outputId": "3bab3df1-05ea-4835-9591-586a8bf92f33"
      },
      "outputs": [
        {
          "output_type": "stream",
          "name": "stdout",
          "text": [
            "<class 'pandas.core.frame.DataFrame'>\n",
            "Int64Index: 865 entries, 0 to 919\n",
            "Data columns (total 12 columns):\n",
            " #   Column                        Non-Null Count  Dtype  \n",
            "---  ------                        --------------  -----  \n",
            " 0   age                           865 non-null    int64  \n",
            " 1   gender                        865 non-null    int64  \n",
            " 2   chest_pain_type               865 non-null    int64  \n",
            " 3   resting_blood_pressure        859 non-null    float64\n",
            " 4   serum_cholesterol             839 non-null    float64\n",
            " 5   fasting_blood_sugar           775 non-null    float64\n",
            " 6   resting_electrocardiographic  863 non-null    float64\n",
            " 7   max_heart_rate                863 non-null    float64\n",
            " 8   exercise_induced_angina       863 non-null    float64\n",
            " 9   st_depression                 856 non-null    float64\n",
            " 10  st_segment                    611 non-null    float64\n",
            " 11  class                         865 non-null    int64  \n",
            "dtypes: float64(8), int64(4)\n",
            "memory usage: 87.9 KB\n",
            "None\n",
            "age                             0\n",
            "gender                          0\n",
            "chest_pain_type                 0\n",
            "resting_blood_pressure          0\n",
            "serum_cholesterol               0\n",
            "fasting_blood_sugar             0\n",
            "resting_electrocardiographic    0\n",
            "max_heart_rate                  0\n",
            "exercise_induced_angina         0\n",
            "st_depression                   0\n",
            "st_segment                      0\n",
            "class                           0\n",
            "dtype: int64\n"
          ]
        }
      ],
      "source": [
        "## dropping each of the rows with more than 50% missing data, as well as the columns with more than 30% missing data\n",
        "heart_df = heart_df.drop([13,23,26,29,30,36,38,44,51,57,58,60,68,69,72,77,87,89,94,96,109,110,111,112,113,114,115,119,120,124,129,133,136,137,141,142,144,145,147,149,155,158,159,161,163,164,167,168,174,181,185,196,198])\n",
        "heart_df = heart_df.drop(columns=['num_major_vessels', 'thal', 'bins'])\n",
        "print(heart_df.info())\n",
        "\n",
        "## replacing missing values with either the mean or median where appropriate\n",
        "heart_df['resting_blood_pressure'] = heart_df['resting_blood_pressure'].fillna(heart_df['resting_blood_pressure'].mean())\n",
        "heart_df['max_heart_rate'] = heart_df['max_heart_rate'].fillna(heart_df['max_heart_rate'].mean())\n",
        "heart_df['serum_cholesterol'] = heart_df['serum_cholesterol'].fillna(heart_df['serum_cholesterol'].median())\n",
        "heart_df['st_depression'] = heart_df['st_depression'].fillna(heart_df['st_depression'].median())\n",
        "\n",
        "## forward filling the remaining missing values, in the discrete variables\n",
        "col1 = ['fasting_blood_sugar']\n",
        "col2 = ['resting_electrocardiographic']\n",
        "col3 = ['exercise_induced_angina']\n",
        "col4 = ['st_segment']\n",
        "heart_df.loc[:,col1] = heart_df.loc[:,col1].ffill()\n",
        "heart_df.loc[:,col2] = heart_df.loc[:,col2].ffill()\n",
        "heart_df.loc[:,col3] = heart_df.loc[:,col3].ffill()\n",
        "heart_df.loc[:,col4] = heart_df.loc[:,col4].ffill()\n",
        "\n",
        "## printing the sum of null values after editing\n",
        "print(heart_df.isnull().sum())"
      ]
    },
    {
      "cell_type": "markdown",
      "source": [
        "## Exploratory Data Analysis\n",
        "Looking into the demographic represented by the database, and some insights into the patients"
      ],
      "metadata": {
        "id": "ZKA0qRUAXff3"
      }
    },
    {
      "cell_type": "code",
      "source": [
        "## generating overlapping histogram to visualise the age distribution difference between the genders\n",
        "heart_df.groupby('gender')['age'].plot(kind='hist', alpha=0.5, title='Age distribution by gender', legend=True)"
      ],
      "metadata": {
        "colab": {
          "base_uri": "https://localhost:8080/",
          "height": 521
        },
        "id": "S-XhauyGWs1Z",
        "outputId": "d91214fd-e49a-4b86-c849-fabb6ced71b8"
      },
      "execution_count": null,
      "outputs": [
        {
          "output_type": "execute_result",
          "data": {
            "text/plain": [
              "gender\n",
              "0    Axes(0.125,0.11;0.775x0.77)\n",
              "1    Axes(0.125,0.11;0.775x0.77)\n",
              "Name: age, dtype: object"
            ]
          },
          "metadata": {},
          "execution_count": 168
        },
        {
          "output_type": "display_data",
          "data": {
            "text/plain": [
              "<Figure size 640x480 with 1 Axes>"
            ],
            "image/png": "[encoded data removed]"
          },
          "metadata": {}
        }
      ]
    },
    {
      "cell_type": "code",
      "source": [
        "## generating a histogram showing the variation in class distribution between the genders\n",
        "heart_df.groupby('gender')['class'].plot(kind='hist', alpha=0.5, title='Class distribution by gender', legend=True)"
      ],
      "metadata": {
        "colab": {
          "base_uri": "https://localhost:8080/",
          "height": 521
        },
        "id": "BDAD8MbBGTiW",
        "outputId": "bc0f3608-c105-4d2f-9ae2-b814eaccf23e"
      },
      "execution_count": null,
      "outputs": [
        {
          "output_type": "execute_result",
          "data": {
            "text/plain": [
              "gender\n",
              "0    Axes(0.125,0.11;0.775x0.77)\n",
              "1    Axes(0.125,0.11;0.775x0.77)\n",
              "Name: class, dtype: object"
            ]
          },
          "metadata": {},
          "execution_count": 19
        },
        {
          "output_type": "display_data",
          "data": {
            "text/plain": [
              "<Figure size 640x480 with 1 Axes>"
            ],
            "image/png": "[encoded data removed]"
          },
          "metadata": {}
        }
      ]
    },
    {
      "cell_type": "code",
      "source": [
        "## generating a line plot showing the correlation between age and classification\n",
        "print('Mean age of person WITH heart disease = ', heart_df['age'][heart_df['class'] != 0].mean())\n",
        "\n",
        "plt.plot(heart_df.groupby('class')['age'].mean())\n",
        "plt.title('Mean age of each class')\n",
        "plt.xlabel('Class')\n",
        "plt.ylabel('Age')\n",
        "\n",
        "df_gender_class = heart_df['class'][heart_df['gender']]"
      ],
      "metadata": {
        "colab": {
          "base_uri": "https://localhost:8080/",
          "height": 489
        },
        "id": "5F1484Pn6s8B",
        "outputId": "e54af922-ca3d-47ef-8632-765ca27ee2c4"
      },
      "execution_count": null,
      "outputs": [
        {
          "output_type": "stream",
          "name": "stdout",
          "text": [
            "Mean age of person WITH heart disease =  55.57805907172996\n"
          ]
        },
        {
          "output_type": "display_data",
          "data": {
            "text/plain": [
              "<Figure size 640x480 with 1 Axes>"
            ],
            "image/png": "[encoded data removed]"
          },
          "metadata": {}
        }
      ]
    },
    {
      "cell_type": "markdown",
      "metadata": {
        "id": "xtKqgXx3hG3I"
      },
      "source": [
        "## Task 2.1 - ML Workflow to Critically Evaluate"
      ]
    },
    {
      "cell_type": "code",
      "source": [
        "## creating a new version of the dataset with binary classification rather than multiclass\n",
        "binary_df = heart_df.dropna()\n",
        "binary_df.loc[binary_df['class']!=0, 'class'] = 1\n",
        "binary_df.loc[binary_df['class']==0, 'class'] = 0"
      ],
      "metadata": {
        "id": "vVUhIj3iGyl1"
      },
      "execution_count": null,
      "outputs": []
    },
    {
      "cell_type": "code",
      "execution_count": null,
      "metadata": {
        "ExecuteTime": {
          "end_time": "2023-07-04T15:47:46.178153Z",
          "start_time": "2023-07-04T15:47:46.174721Z"
        },
        "id": "OJb5FZRPhG3I"
      },
      "outputs": [],
      "source": [
        "# Dropping all rows with missing values\n",
        "df = heart_df\n",
        "df = df.dropna()\n",
        "\n",
        "# Splits the Pandas DataFrame into a feature matrix (X) and class/label vector (y)\n",
        "X = df.iloc[:,:len(df.columns)-1]\n",
        "y = df.iloc[:,len(df.columns)-1]\n",
        "\n",
        "# Splitting dataset for hold-out validation\n",
        "X_train, X_test, y_train, y_test = train_test_split(X, # feature matrix\n",
        "                                                    y, # label vector\n",
        "                                                    test_size=0.2,\n",
        "                                                    random_state=2,\n",
        "                                                    stratify=None\n",
        "                                                   )"
      ]
    },
    {
      "cell_type": "code",
      "execution_count": null,
      "metadata": {
        "ExecuteTime": {
          "end_time": "2023-07-04T15:47:46.193125Z",
          "start_time": "2023-07-04T15:47:46.179995Z"
        },
        "id": "PivMm2b8hG3I",
        "outputId": "745b5526-e69e-4656-b0c9-b73ad6ae0527",
        "colab": {
          "base_uri": "https://localhost:8080/",
          "height": 799
        }
      },
      "outputs": [
        {
          "output_type": "stream",
          "name": "stderr",
          "text": [
            "/usr/local/lib/python3.10/dist-packages/sklearn/linear_model/_logistic.py:458: ConvergenceWarning: lbfgs failed to converge (status=1):\n",
            "STOP: TOTAL NO. of ITERATIONS REACHED LIMIT.\n",
            "\n",
            "Increase the number of iterations (max_iter) or scale the data as shown in:\n",
            "    https://scikit-learn.org/stable/modules/preprocessing.html\n",
            "Please also refer to the documentation for alternative solver options:\n",
            "    https://scikit-learn.org/stable/modules/linear_model.html#logistic-regression\n",
            "  n_iter_i = _check_optimize_result(\n"
          ]
        },
        {
          "output_type": "stream",
          "name": "stdout",
          "text": [
            "Accuracy: 55.5\n"
          ]
        },
        {
          "output_type": "display_data",
          "data": {
            "text/plain": [
              "<Figure size 640x480 with 2 Axes>"
            ],
            "image/png": "[encoded data removed]"
          },
          "metadata": {}
        },
        {
          "output_type": "stream",
          "name": "stderr",
          "text": [
            "<ipython-input-172-37e33786de8a>:24: RuntimeWarning: Mean of empty slice.\n",
            "  accuracy_list_logisticreg = np.append(accuracy_list_logisticreg.mean(), accuracy_list_logisticreg.std()*2)\n",
            "/usr/local/lib/python3.10/dist-packages/numpy/core/_methods.py:190: RuntimeWarning: invalid value encountered in double_scalars\n",
            "  ret = ret.dtype.type(ret / rcount)\n",
            "/usr/local/lib/python3.10/dist-packages/numpy/core/_methods.py:265: RuntimeWarning: Degrees of freedom <= 0 for slice\n",
            "  ret = _var(a, axis=axis, dtype=dtype, out=out, ddof=ddof,\n",
            "/usr/local/lib/python3.10/dist-packages/numpy/core/_methods.py:223: RuntimeWarning: invalid value encountered in divide\n",
            "  arrmean = um.true_divide(arrmean, div, out=arrmean, casting='unsafe',\n",
            "/usr/local/lib/python3.10/dist-packages/numpy/core/_methods.py:257: RuntimeWarning: invalid value encountered in double_scalars\n",
            "  ret = ret.dtype.type(ret / rcount)\n"
          ]
        }
      ],
      "source": [
        "# Creating and testing a Logistic Regression Model\n",
        "model = LogisticRegression()\n",
        "\n",
        "accuracy_list_logisticreg = np.array([])\n",
        "\n",
        "# Training the model\n",
        "model.fit(X_train, y_train)\n",
        "\n",
        "# Testing the model\n",
        "y_pred = model.predict(X_test)\n",
        "\n",
        "# Printing out performance of the model\n",
        "print(\"Accuracy: %0.1f\" % (metrics.accuracy_score(y_test, y_pred)*100))\n",
        "\n",
        "# Creating confusion matrix\n",
        "confusion_matrix = metrics.confusion_matrix(y_test, y_pred)\n",
        "\n",
        "# Visualising the confusion matrix with a heatmap\n",
        "cm_display = metrics.ConfusionMatrixDisplay(confusion_matrix = confusion_matrix)\n",
        "\n",
        "cm_display.plot()\n",
        "plt.show()\n",
        "\n",
        "accuracy_list_logisticreg = np.append(accuracy_list_logisticreg.mean(), accuracy_list_logisticreg.std()*2)"
      ]
    },
    {
      "cell_type": "markdown",
      "metadata": {
        "id": "EXGD4tzPhG3J"
      },
      "source": [
        "## Task 2.3 - Evaluation of Improved ML Workflow\n",
        "\n",
        "Add code for running your **improved** machine learning experiments below.\n"
      ]
    },
    {
      "cell_type": "markdown",
      "source": [
        "## KNeighbours Classifier"
      ],
      "metadata": {
        "id": "i1CrfYd1fLhT"
      }
    },
    {
      "cell_type": "code",
      "execution_count": null,
      "metadata": {
        "id": "lRmLdxGqhG3J",
        "colab": {
          "base_uri": "https://localhost:8080/"
        },
        "outputId": "0841e97d-3d19-4de1-c500-f1db3d5b26b3"
      },
      "outputs": [
        {
          "output_type": "stream",
          "name": "stdout",
          "text": [
            "Accuracy:  0.50 (+/- 0.06)\n",
            "[0.48846154 0.46923077 0.51538462 0.46923077 0.54615385 0.5\n",
            " 0.48076923 0.55       0.50384615 0.47692308 0.48461538 0.51538462\n",
            " 0.49615385 0.50384615 0.58846154 0.51153846 0.50769231 0.46153846\n",
            " 0.50384615 0.48076923 0.48461538 0.47307692 0.48076923 0.48461538\n",
            " 0.51153846 0.49615385 0.5        0.47307692 0.49615385 0.46538462\n",
            " 0.53846154 0.50769231 0.5        0.53461538 0.49615385 0.50769231\n",
            " 0.45       0.5        0.51538462 0.49615385 0.49615385 0.48846154\n",
            " 0.45769231 0.49230769 0.51923077 0.51153846 0.55769231 0.50384615\n",
            " 0.53076923 0.49615385 0.50769231 0.5        0.46923077 0.53076923\n",
            " 0.46538462 0.49615385 0.5        0.53846154 0.53846154 0.49615385\n",
            " 0.44230769 0.48846154 0.50769231 0.44230769 0.51923077 0.43846154\n",
            " 0.47307692 0.53846154 0.48076923 0.47692308 0.53846154 0.47692308\n",
            " 0.47692308 0.47692308 0.5        0.50769231 0.49230769 0.43461538\n",
            " 0.53846154 0.47692308 0.47307692 0.52307692 0.51923077 0.51153846\n",
            " 0.55769231 0.43846154 0.58461538 0.50769231 0.47307692 0.55\n",
            " 0.51538462 0.46923077 0.5        0.51538462 0.51153846 0.50384615\n",
            " 0.51538462 0.50769231 0.44230769 0.53076923]\n"
          ]
        }
      ],
      "source": [
        "k = 15\n",
        "model = KNeighborsClassifier(n_neighbors=k)\n",
        "\n",
        "accuracy_list_knn_sklearn = np.array([])\n",
        "\n",
        "for x in range(100):\n",
        "    # Hold-out validation - 80% training and 20% testing\n",
        "    X_train, X_test, y_train, y_test = train_test_split(X, y, test_size=0.3, random_state=None)\n",
        "\n",
        "    # Training and testing the model\n",
        "    model.fit(X_train, y_train)\n",
        "    y_pred = model.predict(X_test)\n",
        "\n",
        "    # Appending performance metrics to the accuracy array created above\n",
        "    accuracy_list_knn_sklearn = np.append(accuracy_list_knn_sklearn, accuracy_score(y_test, y_pred))\n",
        "\n",
        "print(\"Accuracy:  %0.2f (+/- %0.2f)\" % (accuracy_list_knn_sklearn.mean(), accuracy_list_knn_sklearn.std() * 2))\n",
        "print(accuracy_list_knn_sklearn)"
      ]
    },
    {
      "cell_type": "markdown",
      "source": [
        "## Decision Tree Classifier"
      ],
      "metadata": {
        "id": "uy6P-pbsfQQX"
      }
    },
    {
      "cell_type": "code",
      "execution_count": null,
      "metadata": {
        "id": "lNYd7KvxhG3J",
        "colab": {
          "base_uri": "https://localhost:8080/"
        },
        "outputId": "97d14868-1572-42a3-854e-b91c9e2402fe"
      },
      "outputs": [
        {
          "output_type": "stream",
          "name": "stdout",
          "text": [
            "[[94 22  8  8  0]\n",
            " [23 29 11  8  3]\n",
            " [ 7  6  2  7  3]\n",
            " [ 1 10  3  5  3]\n",
            " [ 0  3  0  3  1]]\n",
            "\n",
            "Accuracy (Testing):  0.50 \n",
            "[0.43076923 0.47307692 0.48461538 0.50384615 0.44230769 0.49615385\n",
            " 0.47692308 0.50769231 0.5        0.50769231 0.53461538 0.49615385\n",
            " 0.51153846 0.48461538 0.55384615 0.48461538 0.51538462 0.49230769\n",
            " 0.50769231 0.46538462 0.48076923 0.51538462 0.50769231 0.51153846\n",
            " 0.5        0.52692308 0.52692308 0.50769231 0.49230769 0.51538462\n",
            " 0.5        0.49230769 0.51538462 0.48846154 0.49615385 0.46923077\n",
            " 0.50769231 0.49615385 0.51923077 0.52692308 0.45384615 0.55\n",
            " 0.46538462 0.51923077 0.51153846 0.45769231 0.48461538 0.51923077\n",
            " 0.46538462 0.48461538 0.47307692 0.51923077 0.42692308 0.48846154\n",
            " 0.48076923 0.48076923 0.45769231 0.48461538 0.46538462 0.46153846\n",
            " 0.49615385 0.47307692 0.48076923 0.50769231 0.47692308 0.52307692\n",
            " 0.49230769 0.49615385 0.51538462 0.5        0.51923077 0.47307692\n",
            " 0.48461538 0.52307692 0.50769231 0.55384615 0.50769231 0.47307692\n",
            " 0.46153846 0.45769231 0.53076923 0.5        0.48846154 0.51538462\n",
            " 0.52307692 0.52307692 0.48846154 0.5        0.46153846 0.47307692\n",
            " 0.48076923 0.48461538 0.48846154 0.46923077 0.45384615 0.48461538\n",
            " 0.45384615 0.52307692 0.51153846 0.50384615]\n"
          ]
        }
      ],
      "source": [
        "model = DecisionTreeClassifier(max_depth=None)\n",
        "\n",
        "accuracy_list_decisiontree = np.array([])\n",
        "\n",
        "for x in range(100):\n",
        "    # Hold-out validation - 80% training and 20% testing\n",
        "    X_train, X_test, y_train, y_test = train_test_split(X, y, test_size=0.3, random_state=None)\n",
        "\n",
        "    # Training and testing the model\n",
        "    model.fit(X_train, y_train)\n",
        "    y_pred = model.predict(X_test)\n",
        "\n",
        "    # Appending performance metrics to the accuracy array created above\n",
        "    accuracy_list_decisiontree = np.append(accuracy_list_decisiontree, accuracy_score(y_test, y_pred))\n",
        "\n",
        "# Printing out confusion matrix and accuracy\n",
        "print(metrics.confusion_matrix(y_test, y_pred))\n",
        "decision_tree_accuracy = metrics.accuracy_score(y_test, y_pred)\n",
        "print(\"\\nAccuracy (Testing):  %0.2f \" % (decision_tree_accuracy))\n",
        "print(accuracy_list_decisiontree)"
      ]
    },
    {
      "cell_type": "markdown",
      "source": [
        "## Random Forest Classifier"
      ],
      "metadata": {
        "id": "Ekjqzo9gfYxx"
      }
    },
    {
      "cell_type": "code",
      "source": [
        "model = RandomForestClassifier(n_estimators=20)\n",
        "\n",
        "accuracy_list_random = np.array([])\n",
        "\n",
        "for x in range(100):\n",
        "    # Hold-out validation - 80% training and 20% testing\n",
        "    X_train, X_test, y_train, y_test = train_test_split(X, y, test_size=0.3, random_state=None)\n",
        "\n",
        "    # Training and testing the model\n",
        "    model.fit(X_train, y_train)\n",
        "    y_pred = model.predict(X_test)\n",
        "\n",
        "    # Appending performance metrics to the accuracy array created above\n",
        "    accuracy_list_random = np.append(accuracy_list_random, accuracy_score(y_test, y_pred))\n",
        "\n",
        "# Printing out confusion matrix and accuracy\n",
        "print(metrics.confusion_matrix(y_test, y_pred))\n",
        "random_forest_accuracy = metrics.accuracy_score(y_test, y_pred)\n",
        "print(\"\\nAccuracy (Testing):  %0.2f \" % (random_forest_accuracy))\n",
        "print(accuracy_list_random)"
      ],
      "metadata": {
        "colab": {
          "base_uri": "https://localhost:8080/"
        },
        "id": "x5jPgr6NfZCt",
        "outputId": "ac09c429-a0e8-4985-89d2-de7d121f66a4"
      },
      "execution_count": null,
      "outputs": [
        {
          "output_type": "stream",
          "name": "stdout",
          "text": [
            "[[108  10   3   1   0]\n",
            " [ 26  31  10   1   0]\n",
            " [  6   8  10   1   0]\n",
            " [  6  15  11   4   1]\n",
            " [  1   2   3   1   1]]\n",
            "\n",
            "Accuracy (Testing):  0.59 \n",
            "[0.60769231 0.53846154 0.56538462 0.58076923 0.57307692 0.59230769\n",
            " 0.60769231 0.59230769 0.58846154 0.56153846 0.59615385 0.59615385\n",
            " 0.55384615 0.53461538 0.58461538 0.55769231 0.64230769 0.58076923\n",
            " 0.61538462 0.56538462 0.6        0.51923077 0.53076923 0.58461538\n",
            " 0.57692308 0.58076923 0.57307692 0.55384615 0.56538462 0.56923077\n",
            " 0.56538462 0.56538462 0.55       0.58846154 0.53846154 0.54615385\n",
            " 0.56153846 0.58461538 0.51538462 0.58461538 0.52692308 0.58076923\n",
            " 0.52307692 0.58461538 0.56153846 0.52692308 0.62692308 0.54230769\n",
            " 0.56153846 0.55       0.56153846 0.56538462 0.57692308 0.53461538\n",
            " 0.6        0.55769231 0.52307692 0.60769231 0.53846154 0.55384615\n",
            " 0.54615385 0.59230769 0.58461538 0.56538462 0.53846154 0.53461538\n",
            " 0.60769231 0.58076923 0.63076923 0.57692308 0.56538462 0.56153846\n",
            " 0.61923077 0.55384615 0.54230769 0.58076923 0.58076923 0.60384615\n",
            " 0.55769231 0.55769231 0.58846154 0.52692308 0.58076923 0.57307692\n",
            " 0.56538462 0.55384615 0.61153846 0.55769231 0.57307692 0.55\n",
            " 0.57692308 0.55769231 0.6        0.58461538 0.53461538 0.56538462\n",
            " 0.6        0.59230769 0.54230769 0.59230769]\n"
          ]
        }
      ]
    },
    {
      "cell_type": "code",
      "source": [
        "plt.figure()\n",
        "plt.hist(accuracy_list_random, bins=10, alpha=0.5, label='Random Forest')\n",
        "plt.hist(accuracy_list_decisiontree, bins=10, alpha=0.5, label='Decision Tree')\n",
        "plt.hist(accuracy_list_knn_sklearn, bins=10, alpha=0.5, label='K-NN (sklearn)')\n",
        "plt.legend()\n",
        "plt.xlabel('Accuracy')\n",
        "plt.ylabel('Frequency')\n",
        "plt.show()"
      ],
      "metadata": {
        "colab": {
          "base_uri": "https://localhost:8080/",
          "height": 449
        },
        "id": "GhT_vhxriP41",
        "outputId": "8683b6d9-97df-4bf5-9011-7b0c21d80403"
      },
      "execution_count": null,
      "outputs": [
        {
          "output_type": "display_data",
          "data": {
            "text/plain": [
              "<Figure size 640x480 with 1 Axes>"
            ],
            "image/png": "[encoded data removed]"
          },
          "metadata": {}
        }
      ]
    },
    {
      "cell_type": "code",
      "source": [],
      "metadata": {
        "id": "tpE5VPsOiP_T"
      },
      "execution_count": null,
      "outputs": []
    }
  ],
  "metadata": {
    "kernelspec": {
      "display_name": "Python 3 (ipykernel)",
      "language": "python",
      "name": "python3"
    },
    "language_info": {
      "codemirror_mode": {
        "name": "ipython",
        "version": 3
      },
      "file_extension": ".py",
      "mimetype": "text/x-python",
      "name": "python",
      "nbconvert_exporter": "python",
      "pygments_lexer": "ipython3",
      "version": "3.11.1"
    },
    "toc": {
      "base_numbering": 1,
      "nav_menu": {},
      "number_sections": true,
      "sideBar": true,
      "skip_h1_title": false,
      "title_cell": "Table of Contents",
      "title_sidebar": "Contents",
      "toc_cell": false,
      "toc_position": {},
      "toc_section_display": true,
      "toc_window_display": true
    },
    "varInspector": {
      "cols": {
        "lenName": 16,
        "lenType": 16,
        "lenVar": 40
      },
      "kernels_config": {
        "python": {
          "delete_cmd_postfix": "",
          "delete_cmd_prefix": "del ",
          "library": "var_list.py",
          "varRefreshCmd": "print(var_dic_list())"
        },
        "r": {
          "delete_cmd_postfix": ") ",
          "delete_cmd_prefix": "rm(",
          "library": "var_list.r",
          "varRefreshCmd": "cat(var_dic_list()) "
        }
      },
      "types_to_exclude": [
        "module",
        "function",
        "builtin_function_or_method",
        "instance",
        "_Feature"
      ],
      "window_display": false
    },
    "colab": {
      "provenance": [],
      "collapsed_sections": [
        "2WvDE1ROv9CP"
      ],
      "include_colab_link": true
    }
  },
  "nbformat": 4,
  "nbformat_minor": 0
}